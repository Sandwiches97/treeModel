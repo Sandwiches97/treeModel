{
 "cells": [
  {
   "cell_type": "code",
   "execution_count": 1,
   "metadata": {},
   "outputs": [],
   "source": [
    "import xgboost as xgb\n",
    "\n"
   ]
  },
  {
   "cell_type": "code",
   "execution_count": 2,
   "metadata": {},
   "outputs": [
    {
     "name": "stdout",
     "output_type": "stream",
     "text": [
      "[0]\ttrain-logloss:0.45482\ttest-logloss:0.45482\n",
      "[1]\ttrain-logloss:0.30923\ttest-logloss:0.30923\n",
      "[2]\ttrain-logloss:0.21772\ttest-logloss:0.21772\n",
      "[3]\ttrain-logloss:0.16302\ttest-logloss:0.16302\n",
      "[4]\ttrain-logloss:0.11865\ttest-logloss:0.11865\n"
     ]
    },
    {
     "name": "stderr",
     "output_type": "stream",
     "text": [
      "a:\\Conda\\envs\\torch\\lib\\site-packages\\xgboost\\core.py:525: FutureWarning: Pass `evals` as keyword args.  Passing these as positional arguments will be considered as error in future releases.\n",
      "  warnings.warn(\n"
     ]
    }
   ],
   "source": [
    "xgb_train = xgb.DMatrix('data/agaricus.txt.train')\n",
    "xgb_test = xgb.DMatrix('data/agaricus.txt.test')\n",
    "params = {\n",
    "    \"objective\": \"binary:logistic\",\n",
    "    \"booster\": \"gbtree\",\n",
    "    \"max_depth\": 3\n",
    "}\n",
    "num_round = 5\n",
    "watchlist = [(xgb_train, 'train'), (xgb_test, 'test')]\n",
    "model = xgb.train(params, xgb_train, num_round, watchlist)"
   ]
  },
  {
   "cell_type": "code",
   "execution_count": 4,
   "metadata": {},
   "outputs": [
    {
     "data": {
      "text/plain": [
       "(array([0.11514483, 0.89272875, 0.11514483, ..., 0.89595425, 0.10320909,\n",
       "        0.89595425], dtype=float32),\n",
       " 1611)"
      ]
     },
     "execution_count": 4,
     "metadata": {},
     "output_type": "execute_result"
    }
   ],
   "source": [
    "preds = model.predict(xgb_test)\n",
    "preds, len(preds)"
   ]
  }
 ],
 "metadata": {
  "interpreter": {
   "hash": "3cf6a369620f3a4211fdd83e20550d7cf350a222c280d9fd5697464086b1b099"
  },
  "kernelspec": {
   "display_name": "Python 3.8.13 ('torch')",
   "language": "python",
   "name": "python3"
  },
  "language_info": {
   "codemirror_mode": {
    "name": "ipython",
    "version": 3
   },
   "file_extension": ".py",
   "mimetype": "text/x-python",
   "name": "python",
   "nbconvert_exporter": "python",
   "pygments_lexer": "ipython3",
   "version": "3.8.13"
  },
  "orig_nbformat": 4
 },
 "nbformat": 4,
 "nbformat_minor": 2
}
