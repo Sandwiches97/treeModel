{
 "cells": [
  {
   "cell_type": "markdown",
   "metadata": {},
   "source": [
    "# 3 ML algorithm 基础\n",
    "## 3.6 排序\n",
    "\n",
    "搜索引擎最重要的一项技术就是 排序（rank），利用机器学习优化搜索引擎的排序结果。"
   ]
  },
  {
   "cell_type": "markdown",
   "metadata": {},
   "source": []
  },
  {
   "cell_type": "markdown",
   "metadata": {},
   "source": []
  }
 ],
 "metadata": {
  "interpreter": {
   "hash": "3cf6a369620f3a4211fdd83e20550d7cf350a222c280d9fd5697464086b1b099"
  },
  "kernelspec": {
   "display_name": "Python 3.8.13 ('torch')",
   "language": "python",
   "name": "python3"
  },
  "language_info": {
   "name": "python",
   "version": "3.8.13"
  },
  "orig_nbformat": 4
 },
 "nbformat": 4,
 "nbformat_minor": 2
}
